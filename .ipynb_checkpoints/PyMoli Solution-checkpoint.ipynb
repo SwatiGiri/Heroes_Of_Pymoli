{
 "cells": [
  {
   "cell_type": "code",
   "execution_count": 85,
   "metadata": {},
   "outputs": [
    {
     "name": "stdout",
     "output_type": "stream",
     "text": [
      "   Age Gender  Item ID                                  Item Name  Price  \\\n",
      "0   38   Male      165                Bone Crushing Silver Skewer   3.37   \n",
      "1   21   Male      119  Stormbringer, Dark Blade of Ending Misery   2.32   \n",
      "2   34   Male      174                            Primitive Blade   2.46   \n",
      "3   21   Male       92                               Final Critic   1.36   \n",
      "4   23   Male       63                             Stormfury Mace   1.27   \n",
      "\n",
      "             SN  \n",
      "0     Aelalis34  \n",
      "1        Eolo46  \n",
      "2   Assastnya25  \n",
      "3  Pheusrical25  \n",
      "4        Aela59  \n"
     ]
    }
   ],
   "source": [
    "import pandas as pd\n",
    "\n",
    "from pprint import pprint\n",
    "\n",
    "data = pd.read_json('purchase_data.json')\n",
    "print(data.head())"
   ]
  },
  {
   "cell_type": "code",
   "execution_count": 90,
   "metadata": {},
   "outputs": [
    {
     "name": "stdout",
     "output_type": "stream",
     "text": [
      "Total number of players: 573\n"
     ]
    }
   ],
   "source": [
    "# Number of players\n",
    "unique_players = len(data[\"SN\"].unique())\n",
    "print(\"Total number of players:\", unique_players)"
   ]
  },
  {
   "cell_type": "markdown",
   "metadata": {},
   "source": [
    "<h1>Purchasing Analysis (Total) </h1>"
   ]
  },
  {
   "cell_type": "code",
   "execution_count": 91,
   "metadata": {},
   "outputs": [
    {
     "name": "stdout",
     "output_type": "stream",
     "text": [
      "Number of Unique Items: 183\n",
      "Average Purchase Price $2.93\n",
      "Total Purchases: 780\n",
      "Total Revenue: $2286.33\n"
     ]
    }
   ],
   "source": [
    "\n",
    "# * Number of Unique Items\n",
    "unique_items = len(data['Item ID'].unique())\n",
    "print(\"Number of Unique Items:\", unique_items)\n",
    "\n",
    "# * Average Purchase Price\n",
    "avg_price = round(data[\"Price\"].mean(), 2)\n",
    "print(\"Average Purchase Price $\", avg_price, sep=\"\")\n",
    "\n",
    "# * Total Number of Purchases\n",
    "total_purchases = len(data)\n",
    "print(\"Total Purchases:\", total_purchases)\n",
    "\n",
    "# * Total Revenue\n",
    "total_revenue = round(data[\"Price\"].sum(), 2)\n",
    "print(\"Total Revenue: $\", total_revenue, sep=\"\")"
   ]
  },
  {
   "cell_type": "markdown",
   "metadata": {},
   "source": [
    "<h1> **Gender Demographics** </h1>"
   ]
  },
  {
   "cell_type": "code",
   "execution_count": 133,
   "metadata": {},
   "outputs": [
    {
     "name": "stdout",
     "output_type": "stream",
     "text": [
      "                       Percentage of Players  Total Count\n",
      "Male                                   81.15          465\n",
      "Female                                 17.45          100\n",
      "Other / Non-Disclosed                   1.40            8\n"
     ]
    }
   ],
   "source": [
    "\n",
    "# Removing duplicate players from the data\n",
    "data_without_duplicate_players = data.drop_duplicates(subset=[\"SN\"])\n",
    "\n",
    "# Seperating the no duplicate data into gender groups\n",
    "gender_groups = data_without_duplicate_players[\"Gender\"].value_counts()\n",
    "\n",
    "# Printing Percentage of palyers and total count according to their gender\n",
    "x = pd.DataFrame({\"Total Count\":gender_groups,\n",
    "                   \"Percentage of Players\": round(gender_groups/unique_players * 100, 2)})\n",
    "print(x)\n"
   ]
  },
  {
   "cell_type": "markdown",
   "metadata": {},
   "source": [
    "<h1> **Purchasing Analysis (Gender)** </h1>"
   ]
  },
  {
   "cell_type": "code",
   "execution_count": 142,
   "metadata": {},
   "outputs": [
    {
     "name": "stdout",
     "output_type": "stream",
     "text": [
      "Female\n",
      "Total Purchases By: 136\n",
      "Average Purchase Price: $2.82\n",
      "Total Purchase Value: $382.91\n",
      "**************************\n",
      "Male\n",
      "Total Purchases By: 633\n",
      "Average Purchase Price: $2.95\n",
      "Total Purchase Value: $1867.68\n",
      "**************************\n",
      "Other / Non-Disclosed\n",
      "Total Purchases By: 11\n",
      "Average Purchase Price: $3.25\n",
      "Total Purchase Value: $35.74\n",
      "**************************\n"
     ]
    }
   ],
   "source": [
    "# Number of purchases by each gender\n",
    "grouped_data = data.groupby([\"Gender\"])\n",
    "for x, y in grouped_data:\n",
    "    price_column = y[\"Price\"]\n",
    "    print(x)\n",
    "    print(\"Total Purchases By:\", len(y))\n",
    "    print(\"Average Purchase Price: $\", round(price_column.mean(), 2), sep=\"\")\n",
    "    print(\"Total Purchase Value: $\", round(price_column.sum(), 2), sep=\"\")\n",
    "#   TODO : Figure out how to calculate Normalized Totals\n",
    "    print(\"**************************\")\n",
    "#   * Normalized Totals\n"
   ]
  },
  {
   "cell_type": "markdown",
   "metadata": {},
   "source": [
    "<h1>**Age Demographics**</h1>"
   ]
  },
  {
   "cell_type": "code",
   "execution_count": 141,
   "metadata": {},
   "outputs": [
    {
     "name": "stdout",
     "output_type": "stream",
     "text": [
      "7\n",
      "Total Purchases By: 19\n",
      "Average Purchase Price: $2.92\n",
      "Total Purchase Value: $55.47\n",
      "**************************\n",
      "8\n",
      "Total Purchases By: 3\n",
      "Average Purchase Price: $1.96\n",
      "Total Purchase Value: $5.87\n",
      "**************************\n",
      "9\n",
      "Total Purchases By: 6\n",
      "Average Purchase Price: $3.69\n",
      "Total Purchase Value: $22.12\n",
      "**************************\n",
      "10\n",
      "Total Purchases By: 4\n",
      "Average Purchase Price: $3.29\n",
      "Total Purchase Value: $13.16\n",
      "**************************\n",
      "11\n",
      "Total Purchases By: 9\n",
      "Average Purchase Price: $2.97\n",
      "Total Purchase Value: $26.76\n",
      "**************************\n",
      "12\n",
      "Total Purchases By: 5\n",
      "Average Purchase Price: $3.84\n",
      "Total Purchase Value: $19.21\n",
      "**************************\n",
      "13\n",
      "Total Purchases By: 11\n",
      "Average Purchase Price: $2.14\n",
      "Total Purchase Value: $23.52\n",
      "**************************\n",
      "14\n",
      "Total Purchases By: 6\n",
      "Average Purchase Price: $2.38\n",
      "Total Purchase Value: $14.3\n",
      "**************************\n",
      "15\n",
      "Total Purchases By: 47\n",
      "Average Purchase Price: $2.99\n",
      "Total Purchase Value: $140.36\n",
      "**************************\n",
      "16\n",
      "Total Purchases By: 23\n",
      "Average Purchase Price: $2.64\n",
      "Total Purchase Value: $60.71\n",
      "**************************\n",
      "17\n",
      "Total Purchases By: 17\n",
      "Average Purchase Price: $3.01\n",
      "Total Purchase Value: $51.11\n",
      "**************************\n",
      "18\n",
      "Total Purchases By: 24\n",
      "Average Purchase Price: $2.8\n",
      "Total Purchase Value: $67.14\n",
      "**************************\n",
      "19\n",
      "Total Purchases By: 22\n",
      "Average Purchase Price: $3.05\n",
      "Total Purchase Value: $67.1\n",
      "**************************\n",
      "20\n",
      "Total Purchases By: 98\n",
      "Average Purchase Price: $2.88\n",
      "Total Purchase Value: $282.68\n",
      "**************************\n",
      "21\n",
      "Total Purchases By: 43\n",
      "Average Purchase Price: $2.8\n",
      "Total Purchase Value: $120.37\n",
      "**************************\n",
      "22\n",
      "Total Purchases By: 68\n",
      "Average Purchase Price: $3.03\n",
      "Total Purchase Value: $206.05\n",
      "**************************\n",
      "23\n",
      "Total Purchases By: 57\n",
      "Average Purchase Price: $2.74\n",
      "Total Purchase Value: $156.21\n",
      "**************************\n",
      "24\n",
      "Total Purchases By: 70\n",
      "Average Purchase Price: $3.05\n",
      "Total Purchase Value: $213.46\n",
      "**************************\n",
      "25\n",
      "Total Purchases By: 67\n",
      "Average Purchase Price: $3.08\n",
      "Total Purchase Value: $206.52\n",
      "**************************\n",
      "26\n",
      "Total Purchases By: 13\n",
      "Average Purchase Price: $2.45\n",
      "Total Purchase Value: $31.83\n",
      "**************************\n",
      "27\n",
      "Total Purchases By: 19\n",
      "Average Purchase Price: $3.06\n",
      "Total Purchase Value: $58.21\n",
      "**************************\n",
      "28\n",
      "Total Purchases By: 5\n",
      "Average Purchase Price: $2.56\n",
      "Total Purchase Value: $12.81\n",
      "**************************\n",
      "29\n",
      "Total Purchases By: 21\n",
      "Average Purchase Price: $2.9\n",
      "Total Purchase Value: $60.96\n",
      "**************************\n",
      "30\n",
      "Total Purchases By: 18\n",
      "Average Purchase Price: $3.11\n",
      "Total Purchase Value: $56.01\n",
      "**************************\n",
      "31\n",
      "Total Purchases By: 16\n",
      "Average Purchase Price: $2.98\n",
      "Total Purchase Value: $47.62\n",
      "**************************\n",
      "32\n",
      "Total Purchases By: 11\n",
      "Average Purchase Price: $3.41\n",
      "Total Purchase Value: $37.5\n",
      "**************************\n",
      "33\n",
      "Total Purchases By: 11\n",
      "Average Purchase Price: $2.89\n",
      "Total Purchase Value: $31.8\n",
      "**************************\n",
      "34\n",
      "Total Purchases By: 8\n",
      "Average Purchase Price: $3.04\n",
      "Total Purchase Value: $24.32\n",
      "**************************\n",
      "35\n",
      "Total Purchases By: 12\n",
      "Average Purchase Price: $3.08\n",
      "Total Purchase Value: $37.02\n",
      "**************************\n",
      "36\n",
      "Total Purchases By: 7\n",
      "Average Purchase Price: $2.88\n",
      "Total Purchase Value: $20.14\n",
      "**************************\n",
      "37\n",
      "Total Purchases By: 9\n",
      "Average Purchase Price: $2.35\n",
      "Total Purchase Value: $21.11\n",
      "**************************\n",
      "38\n",
      "Total Purchases By: 9\n",
      "Average Purchase Price: $2.87\n",
      "Total Purchase Value: $25.79\n",
      "**************************\n",
      "39\n",
      "Total Purchases By: 5\n",
      "Average Purchase Price: $3.07\n",
      "Total Purchase Value: $15.34\n",
      "**************************\n",
      "40\n",
      "Total Purchases By: 14\n",
      "Average Purchase Price: $3.22\n",
      "Total Purchase Value: $45.11\n",
      "**************************\n",
      "42\n",
      "Total Purchases By: 1\n",
      "Average Purchase Price: $2.11\n",
      "Total Purchase Value: $2.11\n",
      "**************************\n",
      "43\n",
      "Total Purchases By: 1\n",
      "Average Purchase Price: $3.81\n",
      "Total Purchase Value: $3.81\n",
      "**************************\n",
      "45\n",
      "Total Purchases By: 1\n",
      "Average Purchase Price: $2.72\n",
      "Total Purchase Value: $2.72\n",
      "**************************\n"
     ]
    }
   ],
   "source": [
    "grouped_data = data.groupby([\"Age\"])\n",
    "for x, y in grouped_data:\n",
    "    price_column = y[\"Price\"]\n",
    "    print(x)\n",
    "    print(\"Total Purchases By:\", len(y))\n",
    "    print(\"Average Purchase Price: $\", round(price_column.mean(), 2), sep=\"\")\n",
    "    print(\"Total Purchase Value: $\", round(price_column.sum(), 2), sep=\"\")\n",
    "#   TODO : Figure out how to calculate Normalized Totals\n",
    "    print(\"**************************\")"
   ]
  },
  {
   "cell_type": "markdown",
   "metadata": {},
   "source": [
    "<h1>**Top Spenders**</h1>"
   ]
  },
  {
   "cell_type": "code",
   "execution_count": 149,
   "metadata": {},
   "outputs": [
    {
     "name": "stdout",
     "output_type": "stream",
     "text": [
      "SN\n",
      "Adairialis76       2.46\n",
      "Aduephos78         2.88\n",
      "Aeduera68          2.35\n",
      "Aela49             2.46\n",
      "Aela59             1.27\n",
      "Aelalis34          3.37\n",
      "Aelin32            3.14\n",
      "Aeliriam77         4.95\n",
      "Aeliriarin93       2.04\n",
      "Aeliru63           4.83\n",
      "Aellyria80         4.32\n",
      "Aellyrialis39      3.15\n",
      "Aellysup38         3.61\n",
      "Aelollo59          1.55\n",
      "Aenarap34          1.65\n",
      "Aenasu69           3.27\n",
      "Aeral43            2.72\n",
      "Aeral85            4.25\n",
      "Aeral97            2.35\n",
      "Aeri84             4.25\n",
      "Aerillorin70       1.88\n",
      "Aerithllora36      4.06\n",
      "Aerithnucal56      1.69\n",
      "Aerithnuphos61     1.69\n",
      "Aerithriaphos45    2.38\n",
      "Aesty51            1.82\n",
      "Aesur96            4.66\n",
      "Aethe80            2.32\n",
      "Aethedru70         2.97\n",
      "Aidain51           4.06\n",
      "                   ... \n",
      "Undjaskla97        4.57\n",
      "Undjasksya56       4.53\n",
      "Undotesta33        3.90\n",
      "Wailin72           2.04\n",
      "Whaestysu86        4.08\n",
      "Yadacal26          1.93\n",
      "Yadaisuir65        4.82\n",
      "Yadanun74          3.61\n",
      "Yalaeria91         1.88\n",
      "Yaliru88           3.71\n",
      "Yalo71             2.41\n",
      "Yalostiphos68      2.37\n",
      "Yaralnura48        2.64\n",
      "Yararmol43         1.55\n",
      "Yarirarn35         2.88\n",
      "Yaristi64          1.24\n",
      "Yarithllodeu72     2.19\n",
      "Yarithphos28       2.35\n",
      "Yarithsurgue62     3.70\n",
      "Yarmol79           2.91\n",
      "Yarolwen77         4.75\n",
      "Yasriphos60        4.26\n",
      "Yasrisu92          2.60\n",
      "Yasur35            2.78\n",
      "Yasur85            2.04\n",
      "Yasurra52          3.14\n",
      "Yathecal72         4.66\n",
      "Yathecal82         2.41\n",
      "Zhisrisu83         1.35\n",
      "Zontibe81          3.71\n",
      "Name: Price, Length: 573, dtype: float64\n"
     ]
    }
   ],
   "source": [
    "# * Identify the the top 5 spenders in the game by total purchase value, then list (in a table):\n",
    "grouped_data = data.groupby([\"SN\"])\n",
    "print(grouped_data[\"Price\"].\n",
    "# for x, y in grouped_data:\n",
    "#     print(x)\n",
    "#     print(\"Total Spending:\", y[\"Price\"].sum())\n",
    "#     print(\"*********\")\n",
    "\n",
    "\n",
    "#   * SN\n",
    "#   * Purchase Count\n",
    "#   * Average Purchase Price\n",
    "#   * Total Purchase Value\n"
   ]
  },
  {
   "cell_type": "code",
   "execution_count": null,
   "metadata": {
    "collapsed": true
   },
   "outputs": [],
   "source": []
  }
 ],
 "metadata": {
  "kernelspec": {
   "display_name": "Python [conda env:Anaconda3]",
   "language": "python",
   "name": "conda-env-Anaconda3-py"
  },
  "language_info": {
   "codemirror_mode": {
    "name": "ipython",
    "version": 3
   },
   "file_extension": ".py",
   "mimetype": "text/x-python",
   "name": "python",
   "nbconvert_exporter": "python",
   "pygments_lexer": "ipython3",
   "version": "3.6.3"
  }
 },
 "nbformat": 4,
 "nbformat_minor": 2
}
